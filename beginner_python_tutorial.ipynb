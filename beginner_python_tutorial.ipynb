{
 "cells": [
  {
   "cell_type": "markdown",
   "id": "1e7691f9",
   "metadata": {},
   "source": [
    "# Python Tutorial for Beginners"
   ]
  },
  {
   "cell_type": "markdown",
   "id": "d9eb3e22",
   "metadata": {},
   "source": [
    "## Introduction\n",
    "This tutorial will guide you through the basics of Python, focusing on functions, variables, and for loops."
   ]
  },
  {
   "cell_type": "markdown",
   "id": "d221dcf6",
   "metadata": {},
   "source": [
    "## Variables\n",
    "Variables are used to store information that can be referenced and manipulated in a program.\n",
   ]
  },
  {
   "cell_type": "code",
   "execution_count": null,
   "id": "02121c0a",
   "metadata": {},
   "outputs": [],
   "source": [
    "# Creating a variable\n",
    "greeting = 'Hello, world!'\n",
    "print(greeting)"
   ]
  },
  {
   "cell_type": "markdown",
   "id": "3a0c5293",
   "metadata": {},
   "source": [
    "## Functions\n",
    "Functions are reusable pieces of code that perform a specific task.\n",
   ]
  },
  {
   "cell_type": "code",
   "execution_count": null,
   "id": "72e8aa8c",
   "metadata": {},
   "outputs": [],
   "source": [
    "# Defining a function\n",
    "def greet(name):\n",
    "    print(f'Hello, {name}!')\n",
    "\n",
    "greet('Alice')"
   ]
  },
  {
   "cell_type": "markdown",
   "id": "0a5b62cd",
   "metadata": {},
   "source": [
    "## For Loops\n",
    "For loops are used for iterating over a sequence (such as a list, tuple, dictionary, or string).\n",
   ]
  },
  {
   "cell_type": "code",
   "execution_count": null,
   "id": "cebb16d8",
   "metadata": {},
   "outputs": [],
   "source": [
    "# Using a for loop\n",
    "colors = ['red', 'green', 'blue']\n",
    "for color in colors:\n",
    "    print(color)"
   ]
  },
  {
   "cell_type": "markdown",
   "id": "ffa6b0cd",
   "metadata": {},
   "source": [
    "## Fully Working Example\n",
    "Now, let's combine what we've learned into a fully working example.\n",
   ]
  },
  {
   "cell_type": "code",
   "execution_count": null,
   "id": "c5151ec4",
   "metadata": {},
   "outputs": [],
   "source": [
    "# A simple program that greets each person in a list by their favorite color\n",
    "def greet_by_favorite_color(name, color):\n",
    "    print(f'Hello, {name}! Your favorite color is {color}.')\n",
    "\n",
    "names_and_colors = [('Alice', 'blue'), ('Bob', 'green'), ('Charlie', 'red')]\n",
    "for name, color in names_and_colors:\n",
    "    greet_by_favorite_color(name, color)"
   ]
  }
 ],
 "metadata": {},
 "nbformat": 4,
 "nbformat_minor": 5
}
